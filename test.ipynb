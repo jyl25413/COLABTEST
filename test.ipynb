{
  "nbformat": 4,
  "nbformat_minor": 0,
  "metadata": {
    "colab": {
      "name": "test.ipynb",
      "provenance": [],
      "authorship_tag": "ABX9TyPbcpHwnJVmUYM9xZnzFs5Q",
      "include_colab_link": true
    },
    "kernelspec": {
      "name": "python3",
      "display_name": "Python 3"
    }
  },
  "cells": [
    {
      "cell_type": "markdown",
      "metadata": {
        "id": "view-in-github",
        "colab_type": "text"
      },
      "source": [
        "<a href=\"https://colab.research.google.com/github/jyl25413/COLABTEST/blob/master/test.ipynb\" target=\"_parent\"><img src=\"https://colab.research.google.com/assets/colab-badge.svg\" alt=\"Open In Colab\"/></a>"
      ]
    },
    {
      "cell_type": "code",
      "metadata": {
        "id": "hkGhV7DkB0Oa",
        "colab_type": "code",
        "outputId": "134a7129-8e63-4344-c6d2-d8ffa6fa9e92",
        "colab": {
          "base_uri": "https://localhost:8080/",
          "height": 84
        }
      },
      "source": [
        "#-----------------\n",
        "# test PRINT FUNCTION ADD COMMENT\n",
        "#------------------\n",
        "print (\"Hello World!\")\n",
        "print (\"Hello World! 'NOT' \")\n",
        "print (\"Hello World! 'NOT'\"\" \")\n",
        "print ('Hello World! ''\"\" ')"
      ],
      "execution_count": 0,
      "outputs": [
        {
          "output_type": "stream",
          "text": [
            "Hello World!\n",
            "Hello World! 'NOT' \n",
            "Hello World! 'NOT' \n",
            "Hello World! \"\" \n"
          ],
          "name": "stdout"
        }
      ]
    },
    {
      "cell_type": "code",
      "metadata": {
        "id": "TUiPDPV_J6D7",
        "colab_type": "code",
        "outputId": "11093826-d3a4-4570-818b-aff3f7d5db71",
        "colab": {
          "base_uri": "https://localhost:8080/",
          "height": 50
        }
      },
      "source": [
        "# A comment, this is so you can read your program later.\n",
        "# Anything after the # is ignored by python.\n",
        "\n",
        "print( 'I could have code like this.\"\"\"\"') # and the comment after is ignored\n",
        "\n",
        "# You can also use a comment to 'disable' or comment out a piece of code:\n",
        "# print 'This won't run.'\n",
        "\n",
        "print('This will run.##')"
      ],
      "execution_count": 0,
      "outputs": [
        {
          "output_type": "stream",
          "text": [
            "I could have code like this.\"\"\"\"\n",
            "This will run.##\n"
          ],
          "name": "stdout"
        }
      ]
    },
    {
      "cell_type": "code",
      "metadata": {
        "id": "52Vv1uaTKxqo",
        "colab_type": "code",
        "outputId": "f481142b-cb2e-4b04-e40f-ccef33fdcf1d",
        "colab": {
          "base_uri": "https://localhost:8080/",
          "height": 269
        }
      },
      "source": [
        "# ----------------------------------------------\n",
        "# lession 3\n",
        "# ----------------------------------------------\n",
        "print ('I will now count my chickens:')\n",
        "\n",
        "print ('Hens', 25 + 30 / 6)\n",
        "print ('Roosters', 100 - 25 * 3 % 4)\n",
        "\n",
        "print ('Now I will count the eggs:')\n",
        "\n",
        "print ((3 + 2 + 1 - 5 + 4 % 2 - 1) / 4 + 6)\n",
        "print(1 )\n",
        "\n",
        "print ('Is it true that (3 + 2) < (5 - 7)?')\n",
        "\n",
        "print (3 + 2 < 5 - 7)\n",
        "\n",
        "print ('What is 3 + 2?', 3 + 2)\n",
        "print ('What is 5 - 7?', 5 - 7)\n",
        "\n",
        "print (\"Oh, that's why it's False.\")\n",
        "\n",
        "print ('How about some more.')\n",
        "\n",
        "print ('Is it greater?', 5 > -2)\n",
        "print ('Is it greater or equal?', 5 >= -2)\n",
        "print ('Is it less or equal?', 5 <= -2)"
      ],
      "execution_count": 0,
      "outputs": [
        {
          "output_type": "stream",
          "text": [
            "I will now count my chickens:\n",
            "Hens 30.0\n",
            "Roosters 97\n",
            "Now I will count the eggs:\n",
            "6.0\n",
            "1\n",
            "Is it true that (3 + 2) < (5 - 7)?\n",
            "False\n",
            "What is 3 + 2? 5\n",
            "What is 5 - 7? -2\n",
            "Oh, that's why it's False.\n",
            "How about some more.\n",
            "Is it greater? True\n",
            "Is it greater or equal? True\n",
            "Is it less or equal? False\n"
          ],
          "name": "stdout"
        }
      ]
    },
    {
      "cell_type": "code",
      "metadata": {
        "id": "Ko1kiN9wMaUW",
        "colab_type": "code",
        "outputId": "97f018d1-aad9-4eb2-b566-bea60d98eb4a",
        "colab": {
          "base_uri": "https://localhost:8080/",
          "height": 118
        }
      },
      "source": [
        "cars = 100\n",
        "space_in_a_car = 4.0\n",
        "drivers = 30\n",
        "passengers = 90\n",
        "cars_not_driven = cars - drivers\n",
        "cars_driven = drivers\n",
        "carpool_capacity = cars_driven * space_in_a_car\n",
        "average_passengers_per_car = passengers / cars_driven\n",
        "ss= \"123456\"\n",
        "\n",
        "\n",
        "#    print(\"There are \", cars, \"cars available.\")\n",
        "print(\"There are  cars available.\",cars, \"cars available.\")\n",
        "\n",
        "print( \"There are only\", drivers, \"drivers available.\")\n",
        "print( \"There will be', cars_not_driven, 'empty cars today.\")\n",
        "print( \"We can transport\", round(carpool_capacity), \"people today.\")\n",
        "print( \"We have\", passengers, \"to carpool today.\")\n",
        "print( \"We need to put about\", average_passengers_per_car, \"in each car. %s\")"
      ],
      "execution_count": 0,
      "outputs": [
        {
          "output_type": "stream",
          "text": [
            "There are  cars available. 100 cars available.\n",
            "There are only 30 drivers available.\n",
            "There will be', cars_not_driven, 'empty cars today.\n",
            "We can transport 120 people today.\n",
            "We have 90 to carpool today.\n",
            "We need to put about 3.0 in each car. %s\n"
          ],
          "name": "stdout"
        }
      ]
    },
    {
      "cell_type": "code",
      "metadata": {
        "id": "VU8KaOi5ZdQ5",
        "colab_type": "code",
        "outputId": "d0680d9c-116f-4b63-a8a2-7aa09fefc47a",
        "colab": {
          "base_uri": "https://localhost:8080/",
          "height": 134
        }
      },
      "source": [
        "my_name = 'Zed A. Shaw'\n",
        "my_age = 35 # not a lie\n",
        "my_height = 74 # inches\n",
        "my_weight = 180 # lbs\n",
        "my_eyes = 'Blue'\n",
        "my_teeth = 'White'\n",
        "my_hair = 'Brown'\n",
        "\n",
        "print (\"Let's talk about %s.\" %my_name)\n",
        "print (\"He's %d inches tall.\" % my_height)\n",
        "print (\"He's %d pounds heavy.\" % my_weight)\n",
        "print (\"Actually that's not too heavy.\")\n",
        "print (\"He's got %s eyes and %s hair.\" % (my_eyes, my_hair))\n",
        "print (\"His teeth are usually %s depending on the coffee.\" % my_teeth)\n",
        "\n",
        "# this line is tricky, try to get it exactly right\n",
        "print (\"If I add %d, %d, and %d I get %d.\" % ( my_age, my_height, my_weight, my_age + my_height + my_weight))"
      ],
      "execution_count": 0,
      "outputs": [
        {
          "output_type": "stream",
          "text": [
            "Let's talk about Zed A. Shaw.\n",
            "He's 74 inches tall.\n",
            "He's 180 pounds heavy.\n",
            "Actually that's not too heavy.\n",
            "He's got Blue eyes and Brown hair.\n",
            "His teeth are usually White depending on the coffee.\n",
            "If I add 35, 74, and 180 I get 289.\n"
          ],
          "name": "stdout"
        }
      ]
    },
    {
      "cell_type": "code",
      "metadata": {
        "id": "kwFwOmTtbclC",
        "colab_type": "code",
        "outputId": "c3747d31-fd89-4af4-998e-34c104496591",
        "colab": {
          "base_uri": "https://localhost:8080/",
          "height": 118
        }
      },
      "source": [
        "#---------------------\n",
        "# LESSON 6\n",
        "#---------------------\n",
        "#\n",
        "#設定X為 string type \n",
        "x = \"There are %d types of people.\" % 10\n",
        "# 設定bianry 為 STRING TYPE\n",
        "binary = 'binary'\n",
        "#設定 do_not 為 string TYPE 因為有使用'號故用 \"\"來 定義STRING 範圍\n",
        "do_not = \"don't\"\n",
        "#SET y as string type, string contain 2 format string %s variable, \n",
        "y = \"Those who know %s and those who %s.\" % (binary, do_not)\n",
        "\n",
        "#print out string X\n",
        "print (x+y+x)\n",
        "#print out string y\n",
        "print (y)\n",
        "\n",
        "#print out string with x as a variable\n",
        "print ('I said: %r.' % x)\n",
        "#print out string with y as a variable \n",
        "print (\"I also said: '%s'.\" % y)\n",
        "\n",
        "#set hilarious as a boolean\n",
        "hilarious = False\n",
        "#\n",
        "joke_evaluation = \"Isn't that joke so funny?! %r\"\n",
        "\n",
        "print (joke_evaluation % hilarious)\n",
        "\n",
        "w = 'This is the left side of...'\n",
        "e = 'a string with a right side.'\n",
        "\n",
        "print (w + e)"
      ],
      "execution_count": 0,
      "outputs": [
        {
          "output_type": "stream",
          "text": [
            "There are 10 types of people.Those who know binary and those who don't.There are 10 types of people.\n",
            "Those who know binary and those who don't.\n",
            "I said: 'There are 10 types of people.'.\n",
            "I also said: 'Those who know binary and those who don't.'.\n",
            "Isn't that joke so funny?! False\n",
            "This is the left side of...a string with a right side.\n"
          ],
          "name": "stdout"
        }
      ]
    },
    {
      "cell_type": "code",
      "metadata": {
        "id": "wq1J1RRBGCi6",
        "colab_type": "code",
        "outputId": "07e36103-d810-4670-855b-9707f796ed98",
        "colab": {
          "base_uri": "https://localhost:8080/",
          "height": 101
        }
      },
      "source": [
        "##------------------------\n",
        "## LESSON 7\n",
        "##-----------------------\n",
        "print('Mary had a little lamb.')\n",
        "print('Its fleece was white as %s.' % 'snow')\n",
        "print('And everywhere that Mary went.')\n",
        "print ('.' * 10)  # what'd that do?\n",
        "\n",
        "end1 = 'C'\n",
        "end2 = 'h'\n",
        "end3 = 'e'\n",
        "end4 = 'e'\n",
        "end5 = 's'\n",
        "end6 = 'e'\n",
        "end7 = 'B'\n",
        "end8 = 'u'\n",
        "end9 = 'r'\n",
        "end10 = 'g'\n",
        "end11 = 'e'\n",
        "end12 = 'r'\n",
        "\n",
        "# watch that comma at the end.  try removing it to see what happens\n",
        "print (end1 + end2 + end3 + end4 + end5 + end6,\n",
        "      end7 + end8 + end9 + end10 + end11 + end12)"
      ],
      "execution_count": 0,
      "outputs": [
        {
          "output_type": "stream",
          "text": [
            "Mary had a little lamb.\n",
            "Its fleece was white as snow.\n",
            "And everywhere that Mary went.\n",
            "..........\n",
            "Cheese Burger\n"
          ],
          "name": "stdout"
        }
      ]
    },
    {
      "cell_type": "code",
      "metadata": {
        "id": "-IQSqs5N4p7j",
        "colab_type": "code",
        "outputId": "1aae7897-fa18-4bb6-836e-e14b8438869a",
        "colab": {
          "base_uri": "https://localhost:8080/",
          "height": 168
        }
      },
      "source": [
        "#---------------------------------\n",
        "# lession 8\n",
        "#---------------------------------\n",
        "\n",
        "formatter = '%r %r %r %r'\n",
        "formatter1 = '%r\\n %r\\n %r\\n %r\\n'\n",
        "\n",
        "print (formatter % (1, 2, 3, 4))\n",
        "print (formatter % ('one', 'two', 'three', 'four'))\n",
        "print (formatter % (True, False, False, True))\n",
        "print (formatter % (formatter, formatter, formatter, formatter))\n",
        "##print (formatter % (\n",
        "print (formatter1 % (\n",
        "      'I had this thing.測試',\n",
        "      'That you could type up right.測試測試測試',\n",
        "       \"But it didn't sing.測試測試測試測試測試\",\n",
        "       'So I said goodnight.測試測試測試'\n",
        "    ))"
      ],
      "execution_count": 0,
      "outputs": [
        {
          "output_type": "stream",
          "text": [
            "1 2 3 4\n",
            "'one' 'two' 'three' 'four'\n",
            "True False False True\n",
            "'%r %r %r %r' '%r %r %r %r' '%r %r %r %r' '%r %r %r %r'\n",
            "'I had this thing.測試'\n",
            " 'That you could type up right.測試測試測試'\n",
            " \"But it didn't sing.測試測試測試測試測試\"\n",
            " 'So I said goodnight.測試測試測試'\n",
            "\n"
          ],
          "name": "stdout"
        }
      ]
    },
    {
      "cell_type": "code",
      "metadata": {
        "id": "WpQ7C5rD6txh",
        "colab_type": "code",
        "outputId": "ed34b182-78fe-4072-d9ee-ab962bfb1853",
        "colab": {
          "base_uri": "https://localhost:8080/",
          "height": 286
        }
      },
      "source": [
        "#----------------------------------\n",
        "# lession 9\n",
        "#----------------------------------\n",
        "days = \"Sun Mon Tue Wed Thu Fri Sat\"\n",
        "months= \"\\nJan\\nFeb\\nMar\\nApr\\nMay\\nJun\\nJyl\\nAug\\nSep\\nOct\\nNov\\nDec\\n\"\n",
        "\n",
        "print(\"Here are the days: \", days)\n",
        "print('Here are the months: ', months)\n",
        "#\n",
        "print(' \\'\\'\\\"\\\" ')\n",
        "#\n",
        "# 10   There's something going on here.\n",
        "#11   With the three double-quotes.\n",
        "#12   We'll be able to type as much as we like.\n",
        "#13   Even 4 lines if we want, or 5, or 6."
      ],
      "execution_count": 0,
      "outputs": [
        {
          "output_type": "stream",
          "text": [
            "Here are the days:  Sun Mon Tue Wed Thu Fri Sat\n",
            "Here are the months:  \n",
            "Jan\n",
            "Feb\n",
            "Mar\n",
            "Apr\n",
            "May\n",
            "Jun\n",
            "Jyl\n",
            "Aug\n",
            "Sep\n",
            "Oct\n",
            "Nov\n",
            "Dec\n",
            "\n",
            " ''\"\" \n"
          ],
          "name": "stdout"
        }
      ]
    },
    {
      "cell_type": "code",
      "metadata": {
        "id": "QzDJjjqMDSE1",
        "colab_type": "code",
        "outputId": "8216ab60-337f-438f-9d42-74157833bbf8",
        "colab": {
          "base_uri": "https://localhost:8080/",
          "height": 790
        }
      },
      "source": [
        "#----------------\n",
        "#lession 10\n",
        "#----------------\n",
        "tabby_cat = '\\tI\\'m tabbed in.'\n",
        "persian_cat = 'I\\'m split\\non a line.'\n",
        "backslash_cat = 'I\\'m \\\\ a \\\\ cat.'\n",
        "ii=0\n",
        "\n",
        "fat_cat = '''\n",
        "    I'll do a list:\n",
        "    \\t* Cat food\n",
        "    \\t* Fishies\n",
        "    \\t* Catnip\\n\\t* Grass\n",
        "   '''\n",
        "\n",
        "print (tabby_cat)\n",
        "print (persian_cat)\n",
        "print (backslash_cat)\n",
        "print (fat_cat)\n",
        "\n",
        "while (ii < 5):\n",
        "        ii=ii+1\n",
        "        for i in ['/','-','|','\\\\','|']:\n",
        "            print ('%s\\r' % i,)\n",
        "        print ('----------------\\n' )"
      ],
      "execution_count": 0,
      "outputs": [
        {
          "output_type": "stream",
          "text": [
            "\tI'm tabbed in.\n",
            "I'm split\n",
            "on a line.\n",
            "I'm \\ a \\ cat.\n",
            "\n",
            "    I'll do a list:\n",
            "    \t* Cat food\n",
            "    \t* Fishies\n",
            "    \t* Catnip\n",
            "\t* Grass\n",
            "   \n",
            "/\r\n",
            "-\r\n",
            "|\r\n",
            "\\\r\n",
            "|\r\n",
            "----------------\n",
            "\n",
            "/\r\n",
            "-\r\n",
            "|\r\n",
            "\\\r\n",
            "|\r\n",
            "----------------\n",
            "\n",
            "/\r\n",
            "-\r\n",
            "|\r\n",
            "\\\r\n",
            "|\r\n",
            "----------------\n",
            "\n",
            "/\r\n",
            "-\r\n",
            "|\r\n",
            "\\\r\n",
            "|\r\n",
            "----------------\n",
            "\n",
            "/\r\n",
            "-\r\n",
            "|\r\n",
            "\\\r\n",
            "|\r\n",
            "----------------\n",
            "\n"
          ],
          "name": "stdout"
        }
      ]
    },
    {
      "cell_type": "code",
      "metadata": {
        "id": "DMANOvgGtf6D",
        "colab_type": "code",
        "outputId": "0ee4ddd6-b6ae-4357-8005-76fd24ebc04e",
        "colab": {
          "base_uri": "https://localhost:8080/",
          "height": 151
        }
      },
      "source": [
        "#------------------------------\n",
        "# Exercise 11. Asking Questions\n",
        "#------------------------------\n",
        "print ('How old are you?', )\n",
        "age = input()\n",
        "\n",
        "print ('How tall are you?',)\n",
        "height = input()\n",
        "print ('How much do you weigh?',)\n",
        "weight = input()\n",
        "x=int(input())\n",
        "\n",
        "print ('So, you\\'re %r old, %r tall and %r heavy. %r' % (\n",
        "        age, height, weight,x))"
      ],
      "execution_count": 0,
      "outputs": [
        {
          "output_type": "stream",
          "text": [
            "How old are you?\n",
            "24545\n",
            "How tall are you?\n",
            "54545\n",
            "How much do you weigh?\n",
            "55454\n",
            "54545\n",
            "So, you're '24545' old, '54545' tall and '55454' heavy. 54545\n"
          ],
          "name": "stdout"
        }
      ]
    },
    {
      "cell_type": "code",
      "metadata": {
        "id": "kT_He8MxB7nH",
        "colab_type": "code",
        "outputId": "6a99a196-9c91-48b4-ad79-35a360d18cb4",
        "colab": {
          "base_uri": "https://localhost:8080/",
          "height": 84
        }
      },
      "source": [
        "#---------------------------\n",
        "#Exercise 12. Prompting People\n",
        "#---------------------------\n",
        "age = input('How old are you? ')\n",
        "height = input('How tall are you? ')\n",
        "weight = input('How much do you weigh? ')\n",
        "\n",
        "print ('So, you\\'re %r old, %r tall and %r heavy.' % (\n",
        "        age, height, weight))"
      ],
      "execution_count": 0,
      "outputs": [
        {
          "output_type": "stream",
          "text": [
            "How old are you? 3232\n",
            "How tall are you? 3232\n",
            "How much do you weigh? 3232\n",
            "So, you're '3232' old, '3232' tall and '3232' heavy.\n"
          ],
          "name": "stdout"
        }
      ]
    },
    {
      "cell_type": "code",
      "metadata": {
        "id": "nCscerbVmUMT",
        "colab_type": "code",
        "colab": {
          "base_uri": "https://localhost:8080/",
          "height": 229
        },
        "outputId": "47c1a243-c31e-467a-ac77-bb1d827f6f45"
      },
      "source": [
        "#@title Default title text\n",
        "#---------------------------------\n",
        "#Exercise 13. Parameters, Unpacking, Variables\n",
        "#----------------------------------\n",
        "\n",
        "from sys import argv\n",
        "\n",
        "script, first, second, third, four = argv\n",
        "\n",
        "print ('The script is called:', script)\n",
        "print ('Your first variable is:', first)\n",
        "print ('Your second variable is:', second)\n",
        "print ('Your third variable is:', third)"
      ],
      "execution_count": 4,
      "outputs": [
        {
          "output_type": "error",
          "ename": "ValueError",
          "evalue": "ignored",
          "traceback": [
            "\u001b[0;31m---------------------------------------------------------------------------\u001b[0m",
            "\u001b[0;31mValueError\u001b[0m                                Traceback (most recent call last)",
            "\u001b[0;32m<ipython-input-4-2fb36b5fa196>\u001b[0m in \u001b[0;36m<module>\u001b[0;34m()\u001b[0m\n\u001b[1;32m      2\u001b[0m \u001b[0;32mfrom\u001b[0m \u001b[0msys\u001b[0m \u001b[0;32mimport\u001b[0m \u001b[0margv\u001b[0m\u001b[0;34m\u001b[0m\u001b[0;34m\u001b[0m\u001b[0m\n\u001b[1;32m      3\u001b[0m \u001b[0;34m\u001b[0m\u001b[0m\n\u001b[0;32m----> 4\u001b[0;31m \u001b[0mscript\u001b[0m\u001b[0;34m,\u001b[0m \u001b[0mfirst\u001b[0m\u001b[0;34m,\u001b[0m \u001b[0msecond\u001b[0m\u001b[0;34m,\u001b[0m \u001b[0mthird\u001b[0m\u001b[0;34m,\u001b[0m \u001b[0mfour\u001b[0m \u001b[0;34m=\u001b[0m \u001b[0margv\u001b[0m\u001b[0;34m\u001b[0m\u001b[0;34m\u001b[0m\u001b[0m\n\u001b[0m\u001b[1;32m      5\u001b[0m \u001b[0;34m\u001b[0m\u001b[0m\n\u001b[1;32m      6\u001b[0m \u001b[0mprint\u001b[0m \u001b[0;34m(\u001b[0m\u001b[0;34m'The script is called:'\u001b[0m\u001b[0;34m,\u001b[0m \u001b[0mscript\u001b[0m\u001b[0;34m)\u001b[0m\u001b[0;34m\u001b[0m\u001b[0;34m\u001b[0m\u001b[0m\n",
            "\u001b[0;31mValueError\u001b[0m: not enough values to unpack (expected 5, got 3)"
          ]
        }
      ]
    },
    {
      "cell_type": "markdown",
      "metadata": {
        "id": "DEvADHmAG_YL",
        "colab_type": "text"
      },
      "source": [
        ""
      ]
    }
  ]
}