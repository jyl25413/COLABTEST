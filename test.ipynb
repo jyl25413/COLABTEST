{
  "nbformat": 4,
  "nbformat_minor": 0,
  "metadata": {
    "colab": {
      "name": "test.ipynb",
      "provenance": [],
      "toc_visible": true,
      "authorship_tag": "ABX9TyPomrp5X6Kg+i8DHmsSZ3P0",
      "include_colab_link": true
    },
    "kernelspec": {
      "name": "python3",
      "display_name": "Python 3"
    }
  },
  "cells": [
    {
      "cell_type": "markdown",
      "metadata": {
        "id": "view-in-github",
        "colab_type": "text"
      },
      "source": [
        "<a href=\"https://colab.research.google.com/github/jyl25413/COLABTEST/blob/master/test.ipynb\" target=\"_parent\"><img src=\"https://colab.research.google.com/assets/colab-badge.svg\" alt=\"Open In Colab\"/></a>"
      ]
    },
    {
      "cell_type": "code",
      "metadata": {
        "id": "hkGhV7DkB0Oa",
        "colab_type": "code",
        "outputId": "134a7129-8e63-4344-c6d2-d8ffa6fa9e92",
        "colab": {
          "base_uri": "https://localhost:8080/",
          "height": 84
        }
      },
      "source": [
        "#-----------------\n",
        "# test PRINT FUNCTION ADD COMMENT\n",
        "#------------------\n",
        "print (\"Hello World!\")\n",
        "print (\"Hello World! 'NOT' \")\n",
        "print (\"Hello World! 'NOT'\"\" \")\n",
        "print ('Hello World! ''\"\" ')"
      ],
      "execution_count": 0,
      "outputs": [
        {
          "output_type": "stream",
          "text": [
            "Hello World!\n",
            "Hello World! 'NOT' \n",
            "Hello World! 'NOT' \n",
            "Hello World! \"\" \n"
          ],
          "name": "stdout"
        }
      ]
    },
    {
      "cell_type": "markdown",
      "metadata": {
        "id": "7PD5i_1D4ouf",
        "colab_type": "text"
      },
      "source": [
        "# New Section"
      ]
    },
    {
      "cell_type": "markdown",
      "metadata": {
        "id": "GBAJ7NOx4pTe",
        "colab_type": "text"
      },
      "source": [
        "# New Section"
      ]
    },
    {
      "cell_type": "code",
      "metadata": {
        "id": "TUiPDPV_J6D7",
        "colab_type": "code",
        "outputId": "11093826-d3a4-4570-818b-aff3f7d5db71",
        "colab": {
          "base_uri": "https://localhost:8080/",
          "height": 50
        }
      },
      "source": [
        "# A comment, this is so you can read your program later.\n",
        "# Anything after the # is ignored by python.\n",
        "\n",
        "print( 'I could have code like this.\"\"\"\"') # and the comment after is ignored\n",
        "\n",
        "# You can also use a comment to 'disable' or comment out a piece of code:\n",
        "# print 'This won't run.'\n",
        "\n",
        "print('This will run.##')"
      ],
      "execution_count": 0,
      "outputs": [
        {
          "output_type": "stream",
          "text": [
            "I could have code like this.\"\"\"\"\n",
            "This will run.##\n"
          ],
          "name": "stdout"
        }
      ]
    },
    {
      "cell_type": "code",
      "metadata": {
        "id": "52Vv1uaTKxqo",
        "colab_type": "code",
        "outputId": "f481142b-cb2e-4b04-e40f-ccef33fdcf1d",
        "colab": {
          "base_uri": "https://localhost:8080/",
          "height": 269
        }
      },
      "source": [
        "# ----------------------------------------------\n",
        "# lession 3\n",
        "# ----------------------------------------------\n",
        "print ('I will now count my chickens:')\n",
        "\n",
        "print ('Hens', 25 + 30 / 6)\n",
        "print ('Roosters', 100 - 25 * 3 % 4)\n",
        "\n",
        "print ('Now I will count the eggs:')\n",
        "\n",
        "print ((3 + 2 + 1 - 5 + 4 % 2 - 1) / 4 + 6)\n",
        "print(1 )\n",
        "\n",
        "print ('Is it true that (3 + 2) < (5 - 7)?')\n",
        "\n",
        "print (3 + 2 < 5 - 7)\n",
        "\n",
        "print ('What is 3 + 2?', 3 + 2)\n",
        "print ('What is 5 - 7?', 5 - 7)\n",
        "\n",
        "print (\"Oh, that's why it's False.\")\n",
        "\n",
        "print ('How about some more.')\n",
        "\n",
        "print ('Is it greater?', 5 > -2)\n",
        "print ('Is it greater or equal?', 5 >= -2)\n",
        "print ('Is it less or equal?', 5 <= -2)"
      ],
      "execution_count": 0,
      "outputs": [
        {
          "output_type": "stream",
          "text": [
            "I will now count my chickens:\n",
            "Hens 30.0\n",
            "Roosters 97\n",
            "Now I will count the eggs:\n",
            "6.0\n",
            "1\n",
            "Is it true that (3 + 2) < (5 - 7)?\n",
            "False\n",
            "What is 3 + 2? 5\n",
            "What is 5 - 7? -2\n",
            "Oh, that's why it's False.\n",
            "How about some more.\n",
            "Is it greater? True\n",
            "Is it greater or equal? True\n",
            "Is it less or equal? False\n"
          ],
          "name": "stdout"
        }
      ]
    },
    {
      "cell_type": "code",
      "metadata": {
        "id": "Ko1kiN9wMaUW",
        "colab_type": "code",
        "outputId": "97f018d1-aad9-4eb2-b566-bea60d98eb4a",
        "colab": {
          "base_uri": "https://localhost:8080/",
          "height": 118
        }
      },
      "source": [
        "cars = 100\n",
        "space_in_a_car = 4.0\n",
        "drivers = 30\n",
        "passengers = 90\n",
        "cars_not_driven = cars - drivers\n",
        "cars_driven = drivers\n",
        "carpool_capacity = cars_driven * space_in_a_car\n",
        "average_passengers_per_car = passengers / cars_driven\n",
        "ss= \"123456\"\n",
        "\n",
        "\n",
        "#    print(\"There are \", cars, \"cars available.\")\n",
        "print(\"There are  cars available.\",cars, \"cars available.\")\n",
        "\n",
        "print( \"There are only\", drivers, \"drivers available.\")\n",
        "print( \"There will be', cars_not_driven, 'empty cars today.\")\n",
        "print( \"We can transport\", round(carpool_capacity), \"people today.\")\n",
        "print( \"We have\", passengers, \"to carpool today.\")\n",
        "print( \"We need to put about\", average_passengers_per_car, \"in each car. %s\")"
      ],
      "execution_count": 0,
      "outputs": [
        {
          "output_type": "stream",
          "text": [
            "There are  cars available. 100 cars available.\n",
            "There are only 30 drivers available.\n",
            "There will be', cars_not_driven, 'empty cars today.\n",
            "We can transport 120 people today.\n",
            "We have 90 to carpool today.\n",
            "We need to put about 3.0 in each car. %s\n"
          ],
          "name": "stdout"
        }
      ]
    },
    {
      "cell_type": "code",
      "metadata": {
        "id": "VU8KaOi5ZdQ5",
        "colab_type": "code",
        "outputId": "d0680d9c-116f-4b63-a8a2-7aa09fefc47a",
        "colab": {
          "base_uri": "https://localhost:8080/",
          "height": 134
        }
      },
      "source": [
        "my_name = 'Zed A. Shaw'\n",
        "my_age = 35 # not a lie\n",
        "my_height = 74 # inches\n",
        "my_weight = 180 # lbs\n",
        "my_eyes = 'Blue'\n",
        "my_teeth = 'White'\n",
        "my_hair = 'Brown'\n",
        "\n",
        "print (\"Let's talk about %s.\" %my_name)\n",
        "print (\"He's %d inches tall.\" % my_height)\n",
        "print (\"He's %d pounds heavy.\" % my_weight)\n",
        "print (\"Actually that's not too heavy.\")\n",
        "print (\"He's got %s eyes and %s hair.\" % (my_eyes, my_hair))\n",
        "print (\"His teeth are usually %s depending on the coffee.\" % my_teeth)\n",
        "\n",
        "# this line is tricky, try to get it exactly right\n",
        "print (\"If I add %d, %d, and %d I get %d.\" % ( my_age, my_height, my_weight, my_age + my_height + my_weight))"
      ],
      "execution_count": 0,
      "outputs": [
        {
          "output_type": "stream",
          "text": [
            "Let's talk about Zed A. Shaw.\n",
            "He's 74 inches tall.\n",
            "He's 180 pounds heavy.\n",
            "Actually that's not too heavy.\n",
            "He's got Blue eyes and Brown hair.\n",
            "His teeth are usually White depending on the coffee.\n",
            "If I add 35, 74, and 180 I get 289.\n"
          ],
          "name": "stdout"
        }
      ]
    },
    {
      "cell_type": "code",
      "metadata": {
        "id": "kwFwOmTtbclC",
        "colab_type": "code",
        "outputId": "c3747d31-fd89-4af4-998e-34c104496591",
        "colab": {
          "base_uri": "https://localhost:8080/",
          "height": 118
        }
      },
      "source": [
        "#---------------------\n",
        "# LESSON 6\n",
        "#---------------------\n",
        "#\n",
        "#設定X為 string type \n",
        "x = \"There are %d types of people.\" % 10\n",
        "# 設定bianry 為 STRING TYPE\n",
        "binary = 'binary'\n",
        "#設定 do_not 為 string TYPE 因為有使用'號故用 \"\"來 定義STRING 範圍\n",
        "do_not = \"don't\"\n",
        "#SET y as string type, string contain 2 format string %s variable, \n",
        "y = \"Those who know %s and those who %s.\" % (binary, do_not)\n",
        "\n",
        "#print out string X\n",
        "print (x+y+x)\n",
        "#print out string y\n",
        "print (y)\n",
        "\n",
        "#print out string with x as a variable\n",
        "print ('I said: %r.' % x)\n",
        "#print out string with y as a variable \n",
        "print (\"I also said: '%s'.\" % y)\n",
        "\n",
        "#set hilarious as a boolean\n",
        "hilarious = False\n",
        "#\n",
        "joke_evaluation = \"Isn't that joke so funny?! %r\"\n",
        "\n",
        "print (joke_evaluation % hilarious)\n",
        "\n",
        "w = 'This is the left side of...'\n",
        "e = 'a string with a right side.'\n",
        "\n",
        "print (w + e)"
      ],
      "execution_count": 0,
      "outputs": [
        {
          "output_type": "stream",
          "text": [
            "There are 10 types of people.Those who know binary and those who don't.There are 10 types of people.\n",
            "Those who know binary and those who don't.\n",
            "I said: 'There are 10 types of people.'.\n",
            "I also said: 'Those who know binary and those who don't.'.\n",
            "Isn't that joke so funny?! False\n",
            "This is the left side of...a string with a right side.\n"
          ],
          "name": "stdout"
        }
      ]
    },
    {
      "cell_type": "code",
      "metadata": {
        "id": "wq1J1RRBGCi6",
        "colab_type": "code",
        "outputId": "07e36103-d810-4670-855b-9707f796ed98",
        "colab": {
          "base_uri": "https://localhost:8080/",
          "height": 101
        }
      },
      "source": [
        "##------------------------\n",
        "## LESSON 7\n",
        "##-----------------------\n",
        "print('Mary had a little lamb.')\n",
        "print('Its fleece was white as %s.' % 'snow')\n",
        "print('And everywhere that Mary went.')\n",
        "print ('.' * 10)  # what'd that do?\n",
        "\n",
        "end1 = 'C'\n",
        "end2 = 'h'\n",
        "end3 = 'e'\n",
        "end4 = 'e'\n",
        "end5 = 's'\n",
        "end6 = 'e'\n",
        "end7 = 'B'\n",
        "end8 = 'u'\n",
        "end9 = 'r'\n",
        "end10 = 'g'\n",
        "end11 = 'e'\n",
        "end12 = 'r'\n",
        "\n",
        "# watch that comma at the end.  try removing it to see what happens\n",
        "print (end1 + end2 + end3 + end4 + end5 + end6,\n",
        "      end7 + end8 + end9 + end10 + end11 + end12)"
      ],
      "execution_count": 0,
      "outputs": [
        {
          "output_type": "stream",
          "text": [
            "Mary had a little lamb.\n",
            "Its fleece was white as snow.\n",
            "And everywhere that Mary went.\n",
            "..........\n",
            "Cheese Burger\n"
          ],
          "name": "stdout"
        }
      ]
    },
    {
      "cell_type": "code",
      "metadata": {
        "id": "-IQSqs5N4p7j",
        "colab_type": "code",
        "outputId": "1aae7897-fa18-4bb6-836e-e14b8438869a",
        "colab": {
          "base_uri": "https://localhost:8080/",
          "height": 168
        }
      },
      "source": [
        "#---------------------------------\n",
        "# lession 8\n",
        "#---------------------------------\n",
        "\n",
        "formatter = '%r %r %r %r'\n",
        "formatter1 = '%r\\n %r\\n %r\\n %r\\n'\n",
        "\n",
        "print (formatter % (1, 2, 3, 4))\n",
        "print (formatter % ('one', 'two', 'three', 'four'))\n",
        "print (formatter % (True, False, False, True))\n",
        "print (formatter % (formatter, formatter, formatter, formatter))\n",
        "##print (formatter % (\n",
        "print (formatter1 % (\n",
        "      'I had this thing.測試',\n",
        "      'That you could type up right.測試測試測試',\n",
        "       \"But it didn't sing.測試測試測試測試測試\",\n",
        "       'So I said goodnight.測試測試測試'\n",
        "    ))"
      ],
      "execution_count": 0,
      "outputs": [
        {
          "output_type": "stream",
          "text": [
            "1 2 3 4\n",
            "'one' 'two' 'three' 'four'\n",
            "True False False True\n",
            "'%r %r %r %r' '%r %r %r %r' '%r %r %r %r' '%r %r %r %r'\n",
            "'I had this thing.測試'\n",
            " 'That you could type up right.測試測試測試'\n",
            " \"But it didn't sing.測試測試測試測試測試\"\n",
            " 'So I said goodnight.測試測試測試'\n",
            "\n"
          ],
          "name": "stdout"
        }
      ]
    },
    {
      "cell_type": "code",
      "metadata": {
        "id": "WpQ7C5rD6txh",
        "colab_type": "code",
        "outputId": "ed34b182-78fe-4072-d9ee-ab962bfb1853",
        "colab": {
          "base_uri": "https://localhost:8080/",
          "height": 286
        }
      },
      "source": [
        "#----------------------------------\n",
        "# lession 9\n",
        "#----------------------------------\n",
        "days = \"Sun Mon Tue Wed Thu Fri Sat\"\n",
        "months= \"\\nJan\\nFeb\\nMar\\nApr\\nMay\\nJun\\nJyl\\nAug\\nSep\\nOct\\nNov\\nDec\\n\"\n",
        "\n",
        "print(\"Here are the days: \", days)\n",
        "print('Here are the months: ', months)\n",
        "#\n",
        "print(' \\'\\'\\\"\\\" ')\n",
        "#\n",
        "# 10   There's something going on here.\n",
        "#11   With the three double-quotes.\n",
        "#12   We'll be able to type as much as we like.\n",
        "#13   Even 4 lines if we want, or 5, or 6."
      ],
      "execution_count": 0,
      "outputs": [
        {
          "output_type": "stream",
          "text": [
            "Here are the days:  Sun Mon Tue Wed Thu Fri Sat\n",
            "Here are the months:  \n",
            "Jan\n",
            "Feb\n",
            "Mar\n",
            "Apr\n",
            "May\n",
            "Jun\n",
            "Jyl\n",
            "Aug\n",
            "Sep\n",
            "Oct\n",
            "Nov\n",
            "Dec\n",
            "\n",
            " ''\"\" \n"
          ],
          "name": "stdout"
        }
      ]
    },
    {
      "cell_type": "code",
      "metadata": {
        "id": "QzDJjjqMDSE1",
        "colab_type": "code",
        "outputId": "8216ab60-337f-438f-9d42-74157833bbf8",
        "colab": {
          "base_uri": "https://localhost:8080/",
          "height": 790
        }
      },
      "source": [
        "#----------------\n",
        "#lession 10\n",
        "#----------------\n",
        "tabby_cat = '\\tI\\'m tabbed in.'\n",
        "persian_cat = 'I\\'m split\\non a line.'\n",
        "backslash_cat = 'I\\'m \\\\ a \\\\ cat.'\n",
        "ii=0\n",
        "\n",
        "fat_cat = '''\n",
        "    I'll do a list:\n",
        "    \\t* Cat food\n",
        "    \\t* Fishies\n",
        "    \\t* Catnip\\n\\t* Grass\n",
        "   '''\n",
        "\n",
        "print (tabby_cat)\n",
        "print (persian_cat)\n",
        "print (backslash_cat)\n",
        "print (fat_cat)\n",
        "\n",
        "while (ii < 5):\n",
        "        ii=ii+1\n",
        "        for i in ['/','-','|','\\\\','|']:\n",
        "            print ('%s\\r' % i,)\n",
        "        print ('----------------\\n' )"
      ],
      "execution_count": 0,
      "outputs": [
        {
          "output_type": "stream",
          "text": [
            "\tI'm tabbed in.\n",
            "I'm split\n",
            "on a line.\n",
            "I'm \\ a \\ cat.\n",
            "\n",
            "    I'll do a list:\n",
            "    \t* Cat food\n",
            "    \t* Fishies\n",
            "    \t* Catnip\n",
            "\t* Grass\n",
            "   \n",
            "/\r\n",
            "-\r\n",
            "|\r\n",
            "\\\r\n",
            "|\r\n",
            "----------------\n",
            "\n",
            "/\r\n",
            "-\r\n",
            "|\r\n",
            "\\\r\n",
            "|\r\n",
            "----------------\n",
            "\n",
            "/\r\n",
            "-\r\n",
            "|\r\n",
            "\\\r\n",
            "|\r\n",
            "----------------\n",
            "\n",
            "/\r\n",
            "-\r\n",
            "|\r\n",
            "\\\r\n",
            "|\r\n",
            "----------------\n",
            "\n",
            "/\r\n",
            "-\r\n",
            "|\r\n",
            "\\\r\n",
            "|\r\n",
            "----------------\n",
            "\n"
          ],
          "name": "stdout"
        }
      ]
    },
    {
      "cell_type": "code",
      "metadata": {
        "id": "DMANOvgGtf6D",
        "colab_type": "code",
        "outputId": "0ee4ddd6-b6ae-4357-8005-76fd24ebc04e",
        "colab": {
          "base_uri": "https://localhost:8080/",
          "height": 151
        }
      },
      "source": [
        "#------------------------------\n",
        "# Exercise 11. Asking Questions\n",
        "#------------------------------\n",
        "print ('How old are you?', )\n",
        "age = input()\n",
        "\n",
        "print ('How tall are you?',)\n",
        "height = input()\n",
        "print ('How much do you weigh?',)\n",
        "weight = input()\n",
        "x=int(input())\n",
        "\n",
        "print ('So, you\\'re %r old, %r tall and %r heavy. %r' % (\n",
        "        age, height, weight,x))"
      ],
      "execution_count": 0,
      "outputs": [
        {
          "output_type": "stream",
          "text": [
            "How old are you?\n",
            "24545\n",
            "How tall are you?\n",
            "54545\n",
            "How much do you weigh?\n",
            "55454\n",
            "54545\n",
            "So, you're '24545' old, '54545' tall and '55454' heavy. 54545\n"
          ],
          "name": "stdout"
        }
      ]
    },
    {
      "cell_type": "code",
      "metadata": {
        "id": "kT_He8MxB7nH",
        "colab_type": "code",
        "outputId": "6a99a196-9c91-48b4-ad79-35a360d18cb4",
        "colab": {
          "base_uri": "https://localhost:8080/",
          "height": 84
        }
      },
      "source": [
        "#---------------------------\n",
        "#Exercise 12. Prompting People\n",
        "#---------------------------\n",
        "age = input('How old are you? ')\n",
        "height = input('How tall are you? ')\n",
        "weight = input('How much do you weigh? ')\n",
        "\n",
        "print ('So, you\\'re %r old, %r tall and %r heavy.' % (\n",
        "        age, height, weight))"
      ],
      "execution_count": 0,
      "outputs": [
        {
          "output_type": "stream",
          "text": [
            "How old are you? 3232\n",
            "How tall are you? 3232\n",
            "How much do you weigh? 3232\n",
            "So, you're '3232' old, '3232' tall and '3232' heavy.\n"
          ],
          "name": "stdout"
        }
      ]
    },
    {
      "cell_type": "code",
      "metadata": {
        "id": "nCscerbVmUMT",
        "colab_type": "code",
        "outputId": "0bf51c78-1ec6-4f9e-f423-a7e677fd3c8d",
        "colab": {
          "base_uri": "https://localhost:8080/",
          "height": 67
        }
      },
      "source": [
        "#@title Default title text 12121\n",
        "#---------------------------------\n",
        "#Exercise 13. Parameters, Unpacking, Variables\n",
        "#----------------------------------\n",
        "\n",
        "from sys import argv\n",
        "\n",
        "script, first, second = argv\n",
        "#script, first, second, third = argv\n",
        "\n",
        "print ('The script is called:', script)\n",
        "print ('Your first variable is:', first)\n",
        "print ('Your second variable is:', second)\n",
        "#print ('Your third variable is:', third)"
      ],
      "execution_count": 0,
      "outputs": [
        {
          "output_type": "stream",
          "text": [
            "The script is called: /usr/local/lib/python3.6/dist-packages/ipykernel_launcher.py\n",
            "Your first variable is: -f\n",
            "Your second variable is: /root/.local/share/jupyter/runtime/kernel-3d836259-ef85-4b16-8909-ec2c459453d6.json\n"
          ],
          "name": "stdout"
        }
      ]
    },
    {
      "cell_type": "code",
      "metadata": {
        "id": "S2TZyP_oPXGt",
        "colab_type": "code",
        "outputId": "d25f7a7f-9d4f-4c42-d863-ffc8140a1352",
        "colab": {
          "base_uri": "https://localhost:8080/",
          "height": 202
        }
      },
      "source": [
        "#--------------------------------------\n",
        "#Exercise 14. Prompting and Passing\n",
        "#--------------------------------------\n",
        "from sys import argv\n",
        "\n",
        "script, user_name, test = argv\n",
        "prompt = '> '\n",
        "\n",
        "print ('Hi %s, I\\'m the %s script.' % (user_name, script))\n",
        "print ('I\\'d like to ask you a few questions.')\n",
        "print ('Do you like me %s?' % user_name)\n",
        "likes = input(prompt)\n",
        "\n",
        "print ('Where do you live %s?' % user_name)\n",
        "lives = input(prompt)\n",
        "\n",
        "print ('What kind of computer do you have?')\n",
        "computer = input(prompt)\n",
        "\n",
        "print (\"\"\" Alright, so you said %r about liking me. \n",
        "           You live in %r.  Not sure where that is. \n",
        "           And you have a %r computer.  Nice.\"\"\" % (likes, lives, computer))"
      ],
      "execution_count": 0,
      "outputs": [
        {
          "output_type": "stream",
          "text": [
            "Hi -f, I'm the /usr/local/lib/python3.6/dist-packages/ipykernel_launcher.py script.\n",
            "I'd like to ask you a few questions.\n",
            "Do you like me -f?\n",
            "> YES\n",
            "Where do you live -f?\n",
            "> TAIPEI TAIWAN\n",
            "What kind of computer do you have?\n",
            "> HP1200\n",
            " Alright, so you said 'YES' about liking me. \n",
            "           You live in 'TAIPEI TAIWAN'.  Not sure where that is. \n",
            "           And you have a 'HP1200' computer.  Nice.\n"
          ],
          "name": "stdout"
        }
      ]
    },
    {
      "cell_type": "code",
      "metadata": {
        "id": "ayxHYoheDBOh",
        "colab_type": "code",
        "outputId": "90a3e8ce-a520-4369-fa4c-7d851102ae51",
        "colab": {
          "base_uri": "https://localhost:8080/",
          "height": 1000
        }
      },
      "source": [
        "!bash"
      ],
      "execution_count": 0,
      "outputs": [
        {
          "output_type": "stream",
          "text": [
            "bash: cannot set terminal process group (123): Inappropriate ioctl for device\n",
            "bash: no job control in this shell\n",
            "\u001b]0;root@628b7f998160: /content\u0007\u001b[01;32mroot@628b7f998160\u001b[00m:\u001b[01;34m/content\u001b[00m# ls\n",
            "\u001b[0m\u001b[01;34msample_data\u001b[0m\n",
            "\u001b]0;root@628b7f998160: /content\u0007\u001b[01;32mroot@628b7f998160\u001b[00m:\u001b[01;34m/content\u001b[00m# dir\n",
            "sample_data\n",
            "\u001b]0;root@628b7f998160: /content\u0007\u001b[01;32mroot@628b7f998160\u001b[00m:\u001b[01;34m/content\u001b[00m# free\n",
            "              total        used        free      shared  buff/cache   available\n",
            "Mem:       13335180      531244    10848420         848     1955516    12526396\n",
            "Swap:             0           0           0\n",
            "\u001b]0;root@628b7f998160: /content\u0007\u001b[01;32mroot@628b7f998160\u001b[00m:\u001b[01;34m/content\u001b[00m# uname -a\n",
            "Linux 628b7f998160 4.14.137+ #1 SMP Thu Aug 8 02:47:02 PDT 2019 x86_64 x86_64 x86_64 GNU/Linux\n",
            "\u001b]0;root@628b7f998160: /content\u0007\u001b[01;32mroot@628b7f998160\u001b[00m:\u001b[01;34m/content\u001b[00m# cat /etc/os-release\n",
            "NAME=\"Ubuntu\"\n",
            "VERSION=\"18.04.3 LTS (Bionic Beaver)\"\n",
            "ID=ubuntu\n",
            "ID_LIKE=debian\n",
            "PRETTY_NAME=\"Ubuntu 18.04.3 LTS\"\n",
            "VERSION_ID=\"18.04\"\n",
            "HOME_URL=\"https://www.ubuntu.com/\"\n",
            "SUPPORT_URL=\"https://help.ubuntu.com/\"\n",
            "BUG_REPORT_URL=\"https://bugs.launchpad.net/ubuntu/\"\n",
            "PRIVACY_POLICY_URL=\"https://www.ubuntu.com/legal/terms-and-policies/privacy-policy\"\n",
            "VERSION_CODENAME=bionic\n",
            "UBUNTU_CODENAME=bionic\n",
            "\u001b]0;root@628b7f998160: /content\u0007\u001b[01;32mroot@628b7f998160\u001b[00m:\u001b[01;34m/content\u001b[00m# ls\n",
            "\u001b[0m\u001b[01;34msample_data\u001b[0m\n",
            "\u001b]0;root@628b7f998160: /content\u0007\u001b[01;32mroot@628b7f998160\u001b[00m:\u001b[01;34m/content\u001b[00m# dir\n",
            "sample_data\n",
            "\u001b]0;root@628b7f998160: /content\u0007\u001b[01;32mroot@628b7f998160\u001b[00m:\u001b[01;34m/content\u001b[00m# mkdir\n",
            "mkdir: missing operand\n",
            "Try 'mkdir --help' for more information.\n",
            "\u001b]0;root@628b7f998160: /content\u0007\u001b[01;32mroot@628b7f998160\u001b[00m:\u001b[01;34m/content\u001b[00m# mkdir code\n",
            "\u001b]0;root@628b7f998160: /content\u0007\u001b[01;32mroot@628b7f998160\u001b[00m:\u001b[01;34m/content\u001b[00m# ls\n",
            "\u001b[0m\u001b[01;34mcode\u001b[0m  \u001b[01;34msample_data\u001b[0m\n",
            "\u001b]0;root@628b7f998160: /content\u0007\u001b[01;32mroot@628b7f998160\u001b[00m:\u001b[01;34m/content\u001b[00m# rimw\n",
            "bash: rimw: command not found\n",
            "\u001b]0;root@628b7f998160: /content\u0007\u001b[01;32mroot@628b7f998160\u001b[00m:\u001b[01;34m/content\u001b[00m# rimw\n",
            "bash: rimw: command not found\n",
            "\u001b]0;root@628b7f998160: /content\u0007\u001b[01;32mroot@628b7f998160\u001b[00m:\u001b[01;34m/content\u001b[00m# time\n",
            "\n",
            "real\t0m0.000s\n",
            "user\t0m0.000s\n",
            "sys\t0m0.000s\n",
            "\u001b]0;root@628b7f998160: /content\u0007\u001b[01;32mroot@628b7f998160\u001b[00m:\u001b[01;34m/content\u001b[00m# date\n",
            "Wed Jan 15 07:17:07 UTC 2020\n",
            "\u001b]0;root@628b7f998160: /content\u0007\u001b[01;32mroot@628b7f998160\u001b[00m:\u001b[01;34m/content\u001b[00m# sys\n",
            "bash: sys: command not found\n",
            "\u001b]0;root@628b7f998160: /content\u0007\u001b[01;32mroot@628b7f998160\u001b[00m:\u001b[01;34m/content\u001b[00m# ls\n",
            "\u001b[0m\u001b[01;34mcode\u001b[0m  \u001b[01;34msample_data\u001b[0m\n",
            "\u001b]0;root@628b7f998160: /content\u0007\u001b[01;32mroot@628b7f998160\u001b[00m:\u001b[01;34m/content\u001b[00m# cd code\n",
            "\u001b]0;root@628b7f998160: /content/code\u0007\u001b[01;32mroot@628b7f998160\u001b[00m:\u001b[01;34m/content/code\u001b[00m# ls\n",
            "\u001b]0;root@628b7f998160: /content/code\u0007\u001b[01;32mroot@628b7f998160\u001b[00m:\u001b[01;34m/content/code\u001b[00m# cd ..\n",
            "\u001b]0;root@628b7f998160: /content\u0007\u001b[01;32mroot@628b7f998160\u001b[00m:\u001b[01;34m/content\u001b[00m# ls\n",
            "\u001b[0m\u001b[01;34mcode\u001b[0m  \u001b[01;34msample_data\u001b[0m\n",
            "\u001b]0;root@628b7f998160: /content\u0007\u001b[01;32mroot@628b7f998160\u001b[00m:\u001b[01;34m/content\u001b[00m# cd ..\n",
            "\u001b]0;root@628b7f998160: /\u0007\u001b[01;32mroot@628b7f998160\u001b[00m:\u001b[01;34m/\u001b[00m# ls\n",
            "\u001b[0m\u001b[01;34mbin\u001b[0m                                        \u001b[01;34metc\u001b[0m    \u001b[01;34mopt\u001b[0m    \u001b[01;34msys\u001b[0m\n",
            "\u001b[01;34mboot\u001b[0m                                       \u001b[01;34mhome\u001b[0m   \u001b[01;34mproc\u001b[0m   \u001b[01;34mtensorflow-2.1.0\u001b[0m\n",
            "\u001b[01;34mcontent\u001b[0m                                    \u001b[01;34mlib\u001b[0m    \u001b[01;34mroot\u001b[0m   \u001b[30;42mtmp\u001b[0m\n",
            "\u001b[01;34mdatalab\u001b[0m                                    \u001b[01;34mlib32\u001b[0m  \u001b[01;34mrun\u001b[0m    \u001b[01;34mtools\u001b[0m\n",
            "\u001b[01;34mdev\u001b[0m                                        \u001b[01;34mlib64\u001b[0m  \u001b[01;34msbin\u001b[0m   \u001b[01;34musr\u001b[0m\n",
            "dlib-19.18.0-cp27-cp27mu-linux_x86_64.whl  \u001b[01;34mmedia\u001b[0m  \u001b[01;34msrv\u001b[0m    \u001b[01;34mvar\u001b[0m\n",
            "dlib-19.18.0-cp36-cp36m-linux_x86_64.whl   \u001b[01;34mmnt\u001b[0m    \u001b[01;34mswift\u001b[0m\n",
            "\u001b]0;root@628b7f998160: /\u0007\u001b[01;32mroot@628b7f998160\u001b[00m:\u001b[01;34m/\u001b[00m# from google.colab import drive\n",
            "from: can't read /var/mail/google.colab\n",
            "\u001b]0;root@628b7f998160: /\u0007\u001b[01;32mroot@628b7f998160\u001b[00m:\u001b[01;34m/\u001b[00m# exit\n",
            "exit\n"
          ],
          "name": "stdout"
        }
      ]
    },
    {
      "cell_type": "markdown",
      "metadata": {
        "id": "VnFwxS_2-5IO",
        "colab_type": "text"
      },
      "source": [
        "#-------------------------------------\n",
        "#Exercise 15. Reading Files\n",
        "#-------------------------------------\n",
        "from sys import argv\n",
        "\n",
        "script, filename, test = argv\n",
        "\n",
        "txt = open(filename)\n",
        "\n",
        "print ('Here\\'s your file %r:' % filename)\n",
        "print (txt.read())\n",
        "\n",
        "#print 'Type the filename again:'\n",
        "#file_again = input('> ')\n",
        "#\n",
        "#txt_again = open(file_again)\n",
        "#\n",
        "#print txt_again.read()"
      ]
    },
    {
      "cell_type": "code",
      "metadata": {
        "id": "t8o80q2dYiVG",
        "colab_type": "code",
        "outputId": "056aefc8-5e44-4bc7-abec-a3f1b9464487",
        "colab": {
          "base_uri": "https://localhost:8080/",
          "height": 337
        }
      },
      "source": [
        "#from google.colab import drive\n",
        "#drive.mount('/content/drive')\n",
        "!bash"
      ],
      "execution_count": 0,
      "outputs": [
        {
          "output_type": "stream",
          "text": [
            "bash: cannot set terminal process group (123): Inappropriate ioctl for device\n",
            "bash: no job control in this shell\n",
            "\u001b]0;root@2b5a92d35179: /content\u0007\u001b[01;32mroot@2b5a92d35179\u001b[00m:\u001b[01;34m/content\u001b[00m# ls\n",
            "\u001b[0m\u001b[01;34mdrive\u001b[0m  \u001b[01;34msample_data\u001b[0m\n",
            "\u001b]0;root@2b5a92d35179: /content\u0007\u001b[01;32mroot@2b5a92d35179\u001b[00m:\u001b[01;34m/content\u001b[00m# mkdir code\n",
            "\u001b]0;root@2b5a92d35179: /content\u0007\u001b[01;32mroot@2b5a92d35179\u001b[00m:\u001b[01;34m/content\u001b[00m# ls\n",
            "\u001b[0m\u001b[01;34mcode\u001b[0m  \u001b[01;34mdrive\u001b[0m  \u001b[01;34msample_data\u001b[0m\n",
            "\u001b]0;root@2b5a92d35179: /content\u0007\u001b[01;32mroot@2b5a92d35179\u001b[00m:\u001b[01;34m/content\u001b[00m# cd code\n",
            "\u001b]0;root@2b5a92d35179: /content/code\u0007\u001b[01;32mroot@2b5a92d35179\u001b[00m:\u001b[01;34m/content/code\u001b[00m# pit push test,py\n",
            "bash: pit: command not found\n",
            "\u001b]0;root@2b5a92d35179: /content/code\u0007\u001b[01;32mroot@2b5a92d35179\u001b[00m:\u001b[01;34m/content/code\u001b[00m# gitpush test.py\n",
            "bash: gitpush: command not found\n",
            "\u001b]0;root@2b5a92d35179: /content/code\u0007\u001b[01;32mroot@2b5a92d35179\u001b[00m:\u001b[01;34m/content/code\u001b[00m# git push test.py\n",
            "fatal: not a git repository (or any of the parent directories): .git\n",
            "\u001b]0;root@2b5a92d35179: /content/code\u0007\u001b[01;32mroot@2b5a92d35179\u001b[00m:\u001b[01;34m/content/code\u001b[00m# \n",
            "\u001b]0;root@2b5a92d35179: /content/code\u0007\u001b[01;32mroot@2b5a92d35179\u001b[00m:\u001b[01;34m/content/code\u001b[00m# \n",
            "\u001b]0;root@2b5a92d35179: /content/code\u0007\u001b[01;32mroot@2b5a92d35179\u001b[00m:\u001b[01;34m/content/code\u001b[00m# \n",
            "\u001b]0;root@2b5a92d35179: /content/code\u0007\u001b[01;32mroot@2b5a92d35179\u001b[00m:\u001b[01;34m/content/code\u001b[00m# exit\n"
          ],
          "name": "stdout"
        }
      ]
    },
    {
      "cell_type": "code",
      "metadata": {
        "id": "ufNbUsjmEmgM",
        "colab_type": "code",
        "outputId": "7d13687e-8966-4be8-aedf-098ec7e17fda",
        "colab": {
          "base_uri": "https://localhost:8080/",
          "height": 126
        }
      },
      "source": [
        "from google.colab import drive\n",
        "drive.mount('/content/drive/')"
      ],
      "execution_count": 0,
      "outputs": [
        {
          "output_type": "stream",
          "text": [
            "Go to this URL in a browser: https://accounts.google.com/o/oauth2/auth?client_id=947318989803-6bn6qk8qdgf4n4g3pfee6491hc0brc4i.apps.googleusercontent.com&redirect_uri=urn%3aietf%3awg%3aoauth%3a2.0%3aoob&response_type=code&scope=email%20https%3a%2f%2fwww.googleapis.com%2fauth%2fdocs.test%20https%3a%2f%2fwww.googleapis.com%2fauth%2fdrive%20https%3a%2f%2fwww.googleapis.com%2fauth%2fdrive.photos.readonly%20https%3a%2f%2fwww.googleapis.com%2fauth%2fpeopleapi.readonly\n",
            "\n",
            "Enter your authorization code:\n",
            "··········\n",
            "Mounted at /content/drive/\n"
          ],
          "name": "stdout"
        }
      ]
    },
    {
      "cell_type": "code",
      "metadata": {
        "id": "FtmmfZZtFDgL",
        "colab_type": "code",
        "outputId": "3836566e-bfe8-4a58-e892-22bab95b6351",
        "colab": {
          "base_uri": "https://localhost:8080/",
          "height": 197
        }
      },
      "source": [
        "# !ls '/content/drive/My Drive/'\n",
        "#!ls\n",
        "!python2 /content/code/test.py /content/code/test.txt"
      ],
      "execution_count": 0,
      "outputs": [
        {
          "output_type": "stream",
          "text": [
            "Here's your file '/content/code/test.txt':\n",
            "Everything you’ve learned about raw_input and argv is so you can start reading files. You may have to play with this exercise the most to understand what’s going on, so do it carefully and remember your checks. Working with files is an easy way to erase your work if you are not careful.\n",
            "\n",
            "This exercise involves writing two files. One is your usual ex15.py file that you will run, but the other is named ex15_sample.txt. This second file isn’t a script but a plain text file we’ll be reading in our script. Here are the contents of that file:\n",
            "Type the filename again:\n",
            "> /content/code/test.txt\n",
            "Everything you’ve learned about raw_input and argv is so you can start reading files. You may have to play with this exercise the most to understand what’s going on, so do it carefully and remember your checks. Working with files is an easy way to erase your work if you are not careful.\n",
            "\n",
            "This exercise involves writing two files. One is your usual ex15.py file that you will run, but the other is named ex15_sample.txt. This second file isn’t a script but a plain text file we’ll be reading in our script. Here are the contents of that file:\n"
          ],
          "name": "stdout"
        }
      ]
    },
    {
      "cell_type": "code",
      "metadata": {
        "id": "zYP91jVb0_ZL",
        "colab_type": "code",
        "outputId": "bc81f358-ff56-451b-b0a2-985b64e1648a",
        "colab": {
          "base_uri": "https://localhost:8080/",
          "height": 52
        }
      },
      "source": [
        "#!git clone https://github.com/jyl25413/COLABTEST\n",
        "#!git init\n",
        "#!git add code/test.py\n",
        "#!git add code/test.txt\n",
        "!git config --global user.email \"jyl2590@gmail.com\"\n",
        "!git commit"
      ],
      "execution_count": 0,
      "outputs": [
        {
          "output_type": "stream",
          "text": [
            "hint: Waiting for your editor to close the file... error: unable to start editor 'editor'\n",
            "Please supply the message using either -m or -F option.\n"
          ],
          "name": "stdout"
        }
      ]
    },
    {
      "cell_type": "code",
      "metadata": {
        "id": "yGFellMUFfrr",
        "colab_type": "code",
        "outputId": "0be75e2e-bbfa-4195-e189-60cdbcfacdee",
        "colab": {
          "base_uri": "https://localhost:8080/",
          "height": 132
        }
      },
      "source": [
        "#------------------------------\n",
        "#Exercise 15. Reading Files\n",
        "#------------------------------\n",
        "from sys import argv\n",
        "\n",
        "script, filename = argv\n",
        "\n",
        "txt = open(filename)\n",
        "\n",
        "print 'Here's your file %r:' % filename\n",
        "print txt.read()\n",
        "\n",
        "print 'Type the filename again:'\n",
        "file_again = raw_input('> ')\n",
        "\n",
        "txt_again = open(file_again)\n",
        "\n",
        "print txt_again.read()"
      ],
      "execution_count": 0,
      "outputs": [
        {
          "output_type": "error",
          "ename": "SyntaxError",
          "evalue": "ignored",
          "traceback": [
            "\u001b[0;36m  File \u001b[0;32m\"<ipython-input-8-fc2626e8365f>\"\u001b[0;36m, line \u001b[0;32m7\u001b[0m\n\u001b[0;31m    print 'Here's your file %r:' % filename\u001b[0m\n\u001b[0m               ^\u001b[0m\n\u001b[0;31mSyntaxError\u001b[0m\u001b[0;31m:\u001b[0m Missing parentheses in call to 'print'. Did you mean print('Here's your file %r:' % filename)?\n"
          ]
        }
      ]
    },
    {
      "cell_type": "markdown",
      "metadata": {
        "id": "actkZTrPH8D-",
        "colab_type": "text"
      },
      "source": [
        "# New Section"
      ]
    },
    {
      "cell_type": "code",
      "metadata": {
        "id": "r7iRLumk5WLI",
        "colab_type": "code",
        "colab": {
          "base_uri": "https://localhost:8080/",
          "height": 542
        },
        "outputId": "b3e55627-937b-4aac-d744-c291215a6d49"
      },
      "source": [
        "!bash"
      ],
      "execution_count": 20,
      "outputs": [
        {
          "output_type": "stream",
          "text": [
            "bash: cannot set terminal process group (123): Inappropriate ioctl for device\n",
            "bash: no job control in this shell\n",
            "\u001b]0;root@2b5a92d35179: /content\u0007\u001b[01;32mroot@2b5a92d35179\u001b[00m:\u001b[01;34m/content\u001b[00m# ls\n",
            "\u001b[0m\u001b[01;34mcode\u001b[0m  \u001b[01;34mCOLABTEST\u001b[0m  \u001b[01;34mdrive\u001b[0m  \u001b[01;34msample_data\u001b[0m\n",
            "\u001b]0;root@2b5a92d35179: /content\u0007\u001b[01;32mroot@2b5a92d35179\u001b[00m:\u001b[01;34m/content\u001b[00m# cd code\n",
            "\u001b]0;root@2b5a92d35179: /content/code\u0007\u001b[01;32mroot@2b5a92d35179\u001b[00m:\u001b[01;34m/content/code\u001b[00m# ls\n",
            "test.py  test.txt\n",
            "\u001b]0;root@2b5a92d35179: /content/code\u0007\u001b[01;32mroot@2b5a92d35179\u001b[00m:\u001b[01;34m/content/code\u001b[00m# \n",
            "\u001b]0;root@2b5a92d35179: /content/code\u0007\u001b[01;32mroot@2b5a92d35179\u001b[00m:\u001b[01;34m/content/code\u001b[00m# \n",
            "\u001b]0;root@2b5a92d35179: /content/code\u0007\u001b[01;32mroot@2b5a92d35179\u001b[00m:\u001b[01;34m/content/code\u001b[00m# \n",
            "\u001b]0;root@2b5a92d35179: /content/code\u0007\u001b[01;32mroot@2b5a92d35179\u001b[00m:\u001b[01;34m/content/code\u001b[00m# exit\n"
          ],
          "name": "stdout"
        },
        {
          "output_type": "error",
          "ename": "KeyboardInterrupt",
          "evalue": "ignored",
          "traceback": [
            "\u001b[0;31m---------------------------------------------------------------------------\u001b[0m",
            "\u001b[0;31mKeyboardInterrupt\u001b[0m                         Traceback (most recent call last)",
            "\u001b[0;32m<ipython-input-20-dabf018339ff>\u001b[0m in \u001b[0;36m<module>\u001b[0;34m()\u001b[0m\n\u001b[0;32m----> 1\u001b[0;31m \u001b[0mget_ipython\u001b[0m\u001b[0;34m(\u001b[0m\u001b[0;34m)\u001b[0m\u001b[0;34m.\u001b[0m\u001b[0msystem\u001b[0m\u001b[0;34m(\u001b[0m\u001b[0;34m'bash'\u001b[0m\u001b[0;34m)\u001b[0m\u001b[0;34m\u001b[0m\u001b[0;34m\u001b[0m\u001b[0m\n\u001b[0m",
            "\u001b[0;32m/usr/local/lib/python3.6/dist-packages/google/colab/_shell.py\u001b[0m in \u001b[0;36msystem\u001b[0;34m(self, *args, **kwargs)\u001b[0m\n\u001b[1;32m     94\u001b[0m       \u001b[0mkwargs\u001b[0m\u001b[0;34m.\u001b[0m\u001b[0mupdate\u001b[0m\u001b[0;34m(\u001b[0m\u001b[0;34m{\u001b[0m\u001b[0;34m'also_return_output'\u001b[0m\u001b[0;34m:\u001b[0m \u001b[0;32mTrue\u001b[0m\u001b[0;34m}\u001b[0m\u001b[0;34m)\u001b[0m\u001b[0;34m\u001b[0m\u001b[0;34m\u001b[0m\u001b[0m\n\u001b[1;32m     95\u001b[0m \u001b[0;34m\u001b[0m\u001b[0m\n\u001b[0;32m---> 96\u001b[0;31m     \u001b[0moutput\u001b[0m \u001b[0;34m=\u001b[0m \u001b[0m_system_commands\u001b[0m\u001b[0;34m.\u001b[0m\u001b[0m_system_compat\u001b[0m\u001b[0;34m(\u001b[0m\u001b[0mself\u001b[0m\u001b[0;34m,\u001b[0m \u001b[0;34m*\u001b[0m\u001b[0margs\u001b[0m\u001b[0;34m,\u001b[0m \u001b[0;34m**\u001b[0m\u001b[0mkwargs\u001b[0m\u001b[0;34m)\u001b[0m  \u001b[0;31m# pylint:disable=protected-access\u001b[0m\u001b[0;34m\u001b[0m\u001b[0;34m\u001b[0m\u001b[0m\n\u001b[0m\u001b[1;32m     97\u001b[0m \u001b[0;34m\u001b[0m\u001b[0m\n\u001b[1;32m     98\u001b[0m     \u001b[0;32mif\u001b[0m \u001b[0mpip_warn\u001b[0m\u001b[0;34m:\u001b[0m\u001b[0;34m\u001b[0m\u001b[0;34m\u001b[0m\u001b[0m\n",
            "\u001b[0;32m/usr/local/lib/python3.6/dist-packages/google/colab/_system_commands.py\u001b[0m in \u001b[0;36m_system_compat\u001b[0;34m(shell, cmd, also_return_output)\u001b[0m\n\u001b[1;32m    436\u001b[0m   \u001b[0;31m# stack.\u001b[0m\u001b[0;34m\u001b[0m\u001b[0;34m\u001b[0m\u001b[0;34m\u001b[0m\u001b[0m\n\u001b[1;32m    437\u001b[0m   result = _run_command(\n\u001b[0;32m--> 438\u001b[0;31m       shell.var_expand(cmd, depth=2), clear_streamed_output=False)\n\u001b[0m\u001b[1;32m    439\u001b[0m   \u001b[0mshell\u001b[0m\u001b[0;34m.\u001b[0m\u001b[0muser_ns\u001b[0m\u001b[0;34m[\u001b[0m\u001b[0;34m'_exit_code'\u001b[0m\u001b[0;34m]\u001b[0m \u001b[0;34m=\u001b[0m \u001b[0mresult\u001b[0m\u001b[0;34m.\u001b[0m\u001b[0mreturncode\u001b[0m\u001b[0;34m\u001b[0m\u001b[0;34m\u001b[0m\u001b[0m\n\u001b[1;32m    440\u001b[0m   \u001b[0;32mif\u001b[0m \u001b[0;34m-\u001b[0m\u001b[0mresult\u001b[0m\u001b[0;34m.\u001b[0m\u001b[0mreturncode\u001b[0m \u001b[0;32min\u001b[0m \u001b[0m_INTERRUPTED_SIGNALS\u001b[0m\u001b[0;34m:\u001b[0m\u001b[0;34m\u001b[0m\u001b[0;34m\u001b[0m\u001b[0m\n",
            "\u001b[0;32m/usr/local/lib/python3.6/dist-packages/google/colab/_system_commands.py\u001b[0m in \u001b[0;36m_run_command\u001b[0;34m(cmd, clear_streamed_output)\u001b[0m\n\u001b[1;32m    193\u001b[0m       \u001b[0mos\u001b[0m\u001b[0;34m.\u001b[0m\u001b[0mclose\u001b[0m\u001b[0;34m(\u001b[0m\u001b[0mchild_pty\u001b[0m\u001b[0;34m)\u001b[0m\u001b[0;34m\u001b[0m\u001b[0;34m\u001b[0m\u001b[0m\n\u001b[1;32m    194\u001b[0m \u001b[0;34m\u001b[0m\u001b[0m\n\u001b[0;32m--> 195\u001b[0;31m       \u001b[0;32mreturn\u001b[0m \u001b[0m_monitor_process\u001b[0m\u001b[0;34m(\u001b[0m\u001b[0mparent_pty\u001b[0m\u001b[0;34m,\u001b[0m \u001b[0mepoll\u001b[0m\u001b[0;34m,\u001b[0m \u001b[0mp\u001b[0m\u001b[0;34m,\u001b[0m \u001b[0mcmd\u001b[0m\u001b[0;34m,\u001b[0m \u001b[0mupdate_stdin_widget\u001b[0m\u001b[0;34m)\u001b[0m\u001b[0;34m\u001b[0m\u001b[0;34m\u001b[0m\u001b[0m\n\u001b[0m\u001b[1;32m    196\u001b[0m   \u001b[0;32mfinally\u001b[0m\u001b[0;34m:\u001b[0m\u001b[0;34m\u001b[0m\u001b[0;34m\u001b[0m\u001b[0m\n\u001b[1;32m    197\u001b[0m     \u001b[0mepoll\u001b[0m\u001b[0;34m.\u001b[0m\u001b[0mclose\u001b[0m\u001b[0;34m(\u001b[0m\u001b[0;34m)\u001b[0m\u001b[0;34m\u001b[0m\u001b[0;34m\u001b[0m\u001b[0m\n",
            "\u001b[0;32m/usr/local/lib/python3.6/dist-packages/google/colab/_system_commands.py\u001b[0m in \u001b[0;36m_monitor_process\u001b[0;34m(parent_pty, epoll, p, cmd, update_stdin_widget)\u001b[0m\n\u001b[1;32m    227\u001b[0m       \u001b[0mnew_echo_status\u001b[0m \u001b[0;34m=\u001b[0m \u001b[0mbool\u001b[0m\u001b[0;34m(\u001b[0m\u001b[0mterm_settings\u001b[0m\u001b[0;34m[\u001b[0m\u001b[0;36m3\u001b[0m\u001b[0;34m]\u001b[0m \u001b[0;34m&\u001b[0m \u001b[0mtermios\u001b[0m\u001b[0;34m.\u001b[0m\u001b[0mECHO\u001b[0m\u001b[0;34m)\u001b[0m\u001b[0;34m\u001b[0m\u001b[0;34m\u001b[0m\u001b[0m\n\u001b[1;32m    228\u001b[0m       \u001b[0;32mif\u001b[0m \u001b[0mecho_status\u001b[0m \u001b[0;34m!=\u001b[0m \u001b[0mnew_echo_status\u001b[0m\u001b[0;34m:\u001b[0m\u001b[0;34m\u001b[0m\u001b[0;34m\u001b[0m\u001b[0m\n\u001b[0;32m--> 229\u001b[0;31m         \u001b[0mupdate_stdin_widget\u001b[0m\u001b[0;34m(\u001b[0m\u001b[0mnew_echo_status\u001b[0m\u001b[0;34m)\u001b[0m\u001b[0;34m\u001b[0m\u001b[0;34m\u001b[0m\u001b[0m\n\u001b[0m\u001b[1;32m    230\u001b[0m         \u001b[0mecho_status\u001b[0m \u001b[0;34m=\u001b[0m \u001b[0mnew_echo_status\u001b[0m\u001b[0;34m\u001b[0m\u001b[0;34m\u001b[0m\u001b[0m\n\u001b[1;32m    231\u001b[0m     \u001b[0;32mexcept\u001b[0m \u001b[0mKeyboardInterrupt\u001b[0m\u001b[0;34m:\u001b[0m\u001b[0;34m\u001b[0m\u001b[0;34m\u001b[0m\u001b[0m\n",
            "\u001b[0;32m/usr/local/lib/python3.6/dist-packages/google/colab/_system_commands.py\u001b[0m in \u001b[0;36mecho_updater\u001b[0;34m(new_echo_status)\u001b[0m\n\u001b[1;32m    348\u001b[0m     \u001b[0;31m# https://github.com/googlecolab/colabtools/blob/56e4dbec7c4fa09fad51b60feb5c786c69d688c6/google/colab/_message.py#L100.\u001b[0m\u001b[0;34m\u001b[0m\u001b[0;34m\u001b[0m\u001b[0;34m\u001b[0m\u001b[0m\n\u001b[1;32m    349\u001b[0m     \u001b[0mupdate_args\u001b[0m \u001b[0;34m=\u001b[0m \u001b[0;34m[\u001b[0m\u001b[0;34m'cell_update_stdin'\u001b[0m\u001b[0;34m,\u001b[0m \u001b[0;34m{\u001b[0m\u001b[0;34m'echo'\u001b[0m\u001b[0;34m:\u001b[0m \u001b[0mnew_echo_status\u001b[0m\u001b[0;34m}\u001b[0m\u001b[0;34m]\u001b[0m\u001b[0;34m\u001b[0m\u001b[0;34m\u001b[0m\u001b[0m\n\u001b[0;32m--> 350\u001b[0;31m     \u001b[0m_message\u001b[0m\u001b[0;34m.\u001b[0m\u001b[0mblocking_request\u001b[0m\u001b[0;34m(\u001b[0m\u001b[0;34m*\u001b[0m\u001b[0mupdate_args\u001b[0m\u001b[0;34m,\u001b[0m \u001b[0mparent\u001b[0m\u001b[0;34m=\u001b[0m\u001b[0mshell\u001b[0m\u001b[0;34m.\u001b[0m\u001b[0mparent_header\u001b[0m\u001b[0;34m)\u001b[0m\u001b[0;34m\u001b[0m\u001b[0;34m\u001b[0m\u001b[0m\n\u001b[0m\u001b[1;32m    351\u001b[0m \u001b[0;34m\u001b[0m\u001b[0m\n\u001b[1;32m    352\u001b[0m   \u001b[0;32myield\u001b[0m \u001b[0mecho_updater\u001b[0m\u001b[0;34m\u001b[0m\u001b[0;34m\u001b[0m\u001b[0m\n",
            "\u001b[0;32m/usr/local/lib/python3.6/dist-packages/google/colab/_message.py\u001b[0m in \u001b[0;36mblocking_request\u001b[0;34m(request_type, request, timeout_sec, parent)\u001b[0m\n\u001b[1;32m    169\u001b[0m   \u001b[0;31m# unique.\u001b[0m\u001b[0;34m\u001b[0m\u001b[0;34m\u001b[0m\u001b[0;34m\u001b[0m\u001b[0m\n\u001b[1;32m    170\u001b[0m   \u001b[0mrequest_id\u001b[0m \u001b[0;34m=\u001b[0m \u001b[0msend_request\u001b[0m\u001b[0;34m(\u001b[0m\u001b[0mrequest_type\u001b[0m\u001b[0;34m,\u001b[0m \u001b[0mrequest\u001b[0m\u001b[0;34m,\u001b[0m \u001b[0mparent\u001b[0m\u001b[0;34m=\u001b[0m\u001b[0mparent\u001b[0m\u001b[0;34m)\u001b[0m\u001b[0;34m\u001b[0m\u001b[0;34m\u001b[0m\u001b[0m\n\u001b[0;32m--> 171\u001b[0;31m   \u001b[0;32mreturn\u001b[0m \u001b[0mread_reply_from_input\u001b[0m\u001b[0;34m(\u001b[0m\u001b[0mrequest_id\u001b[0m\u001b[0;34m,\u001b[0m \u001b[0mtimeout_sec\u001b[0m\u001b[0;34m)\u001b[0m\u001b[0;34m\u001b[0m\u001b[0;34m\u001b[0m\u001b[0m\n\u001b[0m",
            "\u001b[0;32m/usr/local/lib/python3.6/dist-packages/google/colab/_message.py\u001b[0m in \u001b[0;36mread_reply_from_input\u001b[0;34m(message_id, timeout_sec)\u001b[0m\n\u001b[1;32m     99\u001b[0m     \u001b[0mreply\u001b[0m \u001b[0;34m=\u001b[0m \u001b[0m_read_next_input_message\u001b[0m\u001b[0;34m(\u001b[0m\u001b[0;34m)\u001b[0m\u001b[0;34m\u001b[0m\u001b[0;34m\u001b[0m\u001b[0m\n\u001b[1;32m    100\u001b[0m     \u001b[0;32mif\u001b[0m \u001b[0mreply\u001b[0m \u001b[0;34m==\u001b[0m \u001b[0m_NOT_READY\u001b[0m \u001b[0;32mor\u001b[0m \u001b[0;32mnot\u001b[0m \u001b[0misinstance\u001b[0m\u001b[0;34m(\u001b[0m\u001b[0mreply\u001b[0m\u001b[0;34m,\u001b[0m \u001b[0mdict\u001b[0m\u001b[0;34m)\u001b[0m\u001b[0;34m:\u001b[0m\u001b[0;34m\u001b[0m\u001b[0;34m\u001b[0m\u001b[0m\n\u001b[0;32m--> 101\u001b[0;31m       \u001b[0mtime\u001b[0m\u001b[0;34m.\u001b[0m\u001b[0msleep\u001b[0m\u001b[0;34m(\u001b[0m\u001b[0;36m0.025\u001b[0m\u001b[0;34m)\u001b[0m\u001b[0;34m\u001b[0m\u001b[0;34m\u001b[0m\u001b[0m\n\u001b[0m\u001b[1;32m    102\u001b[0m       \u001b[0;32mcontinue\u001b[0m\u001b[0;34m\u001b[0m\u001b[0;34m\u001b[0m\u001b[0m\n\u001b[1;32m    103\u001b[0m     if (reply.get('type') == 'colab_reply' and\n",
            "\u001b[0;31mKeyboardInterrupt\u001b[0m: "
          ]
        }
      ]
    },
    {
      "cell_type": "code",
      "metadata": {
        "id": "3xtV0nVT5exd",
        "colab_type": "code",
        "colab": {
          "base_uri": "https://localhost:8080/",
          "height": 35
        },
        "outputId": "04824984-08fe-43d9-a845-114979dc7f14"
      },
      "source": [
        "!python2 /contest/code/test.py /content/code/test.txt"
      ],
      "execution_count": 22,
      "outputs": [
        {
          "output_type": "stream",
          "text": [
            "python2: can't open file '/contest/code/test.py': [Errno 2] No such file or directory\n"
          ],
          "name": "stdout"
        }
      ]
    },
    {
      "cell_type": "markdown",
      "metadata": {
        "id": "DEvADHmAG_YL",
        "colab_type": "text"
      },
      "source": [
        ""
      ]
    }
  ]
}